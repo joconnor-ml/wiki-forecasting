{
 "cells": [
  {
   "cell_type": "code",
   "execution_count": 81,
   "metadata": {},
   "outputs": [
    {
     "name": "stdout",
     "output_type": "stream",
     "text": [
      "The autoreload extension is already loaded. To reload it, use:\n",
      "  %reload_ext autoreload\n"
     ]
    }
   ],
   "source": [
    "%load_ext autoreload\n",
    "\n",
    "# trick for importing from different directory\n",
    "import os\n",
    "import sys\n",
    "module_path = os.path.abspath(os.path.join('..'))\n",
    "if module_path not in sys.path:\n",
    "    sys.path.append(module_path)\n",
    "    \n",
    "import statsmodels.api as sm"
   ]
  },
  {
   "cell_type": "code",
   "execution_count": 82,
   "metadata": {
    "collapsed": true
   },
   "outputs": [],
   "source": [
    "import numpy as np\n",
    "def smape(y_true, y_pred):\n",
    "    denominator = (np.abs(y_true) + np.abs(y_pred)) / 200.0\n",
    "    diff = np.abs(y_true - y_pred) / denominator\n",
    "    diff[denominator == 0] = 0.0\n",
    "    return np.nanmean(diff)"
   ]
  },
  {
   "cell_type": "code",
   "execution_count": 112,
   "metadata": {},
   "outputs": [],
   "source": [
    "%autoreload 2\n",
    "from wiki_forecasting.data_utils import prepare_data\n",
    "X, y, sums, df = prepare_data()\n",
    "X = X.loc[y<100]\n",
    "sums = sums.loc[y<100]\n",
    "y = y.loc[y<100]"
   ]
  },
  {
   "cell_type": "code",
   "execution_count": 113,
   "metadata": {},
   "outputs": [],
   "source": [
    "X = X.drop([\"date\", \"date_code\"], axis=1).fillna(0)"
   ]
  },
  {
   "cell_type": "code",
   "execution_count": 114,
   "metadata": {
    "collapsed": true
   },
   "outputs": [],
   "source": [
    "import numpy as np\n",
    "import pandas as pd\n",
    "from statsmodels.genmod.generalized_estimating_equations import GEE\n",
    "from statsmodels.genmod.cov_struct import (Exchangeable,\n",
    "    Independence,Autoregressive)\n",
    "from statsmodels.genmod.families import Poisson\n"
   ]
  },
  {
   "cell_type": "code",
   "execution_count": 115,
   "metadata": {},
   "outputs": [],
   "source": [
    "X[\"y\"] = y"
   ]
  },
  {
   "cell_type": "code",
   "execution_count": 116,
   "metadata": {},
   "outputs": [
    {
     "data": {
      "text/html": [
       "<div>\n",
       "<style>\n",
       "    .dataframe thead tr:only-child th {\n",
       "        text-align: right;\n",
       "    }\n",
       "\n",
       "    .dataframe thead th {\n",
       "        text-align: left;\n",
       "    }\n",
       "\n",
       "    .dataframe tbody tr th {\n",
       "        vertical-align: top;\n",
       "    }\n",
       "</style>\n",
       "<table border=\"1\" class=\"dataframe\">\n",
       "  <thead>\n",
       "    <tr style=\"text-align: right;\">\n",
       "      <th></th>\n",
       "      <th>ewm</th>\n",
       "      <th>med1</th>\n",
       "      <th>med2</th>\n",
       "      <th>med3</th>\n",
       "      <th>median</th>\n",
       "      <th>page</th>\n",
       "      <th>y</th>\n",
       "    </tr>\n",
       "    <tr>\n",
       "      <th>Page</th>\n",
       "      <th></th>\n",
       "      <th></th>\n",
       "      <th></th>\n",
       "      <th></th>\n",
       "      <th></th>\n",
       "      <th></th>\n",
       "      <th></th>\n",
       "    </tr>\n",
       "  </thead>\n",
       "  <tbody>\n",
       "    <tr>\n",
       "      <th>2NE1_zh.wikipedia.org_all-access_spider</th>\n",
       "      <td>22.580592</td>\n",
       "      <td>14.0</td>\n",
       "      <td>14.0</td>\n",
       "      <td>19.0</td>\n",
       "      <td>15.0</td>\n",
       "      <td>0</td>\n",
       "      <td>13.0</td>\n",
       "    </tr>\n",
       "    <tr>\n",
       "      <th>2PM_zh.wikipedia.org_all-access_spider</th>\n",
       "      <td>34.413953</td>\n",
       "      <td>49.0</td>\n",
       "      <td>27.5</td>\n",
       "      <td>24.5</td>\n",
       "      <td>17.0</td>\n",
       "      <td>1</td>\n",
       "      <td>12.0</td>\n",
       "    </tr>\n",
       "    <tr>\n",
       "      <th>3C_zh.wikipedia.org_all-access_spider</th>\n",
       "      <td>5.250139</td>\n",
       "      <td>6.0</td>\n",
       "      <td>4.0</td>\n",
       "      <td>5.0</td>\n",
       "      <td>4.0</td>\n",
       "      <td>2</td>\n",
       "      <td>6.0</td>\n",
       "    </tr>\n",
       "    <tr>\n",
       "      <th>4minute_zh.wikipedia.org_all-access_spider</th>\n",
       "      <td>19.071762</td>\n",
       "      <td>13.0</td>\n",
       "      <td>16.0</td>\n",
       "      <td>14.5</td>\n",
       "      <td>12.0</td>\n",
       "      <td>3</td>\n",
       "      <td>38.0</td>\n",
       "    </tr>\n",
       "    <tr>\n",
       "      <th>52_Hz_I_Love_You_zh.wikipedia.org_all-access_spider</th>\n",
       "      <td>6.113785</td>\n",
       "      <td>7.0</td>\n",
       "      <td>5.5</td>\n",
       "      <td>4.0</td>\n",
       "      <td>4.0</td>\n",
       "      <td>4</td>\n",
       "      <td>13.0</td>\n",
       "    </tr>\n",
       "  </tbody>\n",
       "</table>\n",
       "</div>"
      ],
      "text/plain": [
       "                                                          ewm  med1  med2  \\\n",
       "Page                                                                        \n",
       "2NE1_zh.wikipedia.org_all-access_spider             22.580592  14.0  14.0   \n",
       "2PM_zh.wikipedia.org_all-access_spider              34.413953  49.0  27.5   \n",
       "3C_zh.wikipedia.org_all-access_spider                5.250139   6.0   4.0   \n",
       "4minute_zh.wikipedia.org_all-access_spider          19.071762  13.0  16.0   \n",
       "52_Hz_I_Love_You_zh.wikipedia.org_all-access_sp...   6.113785   7.0   5.5   \n",
       "\n",
       "                                                    med3  median  page     y  \n",
       "Page                                                                          \n",
       "2NE1_zh.wikipedia.org_all-access_spider             19.0    15.0     0  13.0  \n",
       "2PM_zh.wikipedia.org_all-access_spider              24.5    17.0     1  12.0  \n",
       "3C_zh.wikipedia.org_all-access_spider                5.0     4.0     2   6.0  \n",
       "4minute_zh.wikipedia.org_all-access_spider          14.5    12.0     3  38.0  \n",
       "52_Hz_I_Love_You_zh.wikipedia.org_all-access_sp...   4.0     4.0     4  13.0  "
      ]
     },
     "execution_count": 116,
     "metadata": {},
     "output_type": "execute_result"
    }
   ],
   "source": [
    "X.head()"
   ]
  },
  {
   "cell_type": "code",
   "execution_count": 120,
   "metadata": {},
   "outputs": [
    {
     "name": "stderr",
     "output_type": "stream",
     "text": [
      "/usr/local/lib/python3.5/dist-packages/statsmodels/genmod/generalized_estimating_equations.py:1128: IterationLimitWarning: Iteration limit reached prior to convergence\n",
      "  IterationLimitWarning)\n"
     ]
    },
    {
     "data": {
      "text/html": [
       "<table class=\"simpletable\">\n",
       "<caption>GEE Regression Results</caption>\n",
       "<tr>\n",
       "  <th>Dep. Variable:</th>                  <td>y</td>          <th>  No. Observations:  </th>   <td>48384</td> \n",
       "</tr>\n",
       "<tr>\n",
       "  <th>Model:</th>                         <td>GEE</td>         <th>  No. clusters:      </th>    <td>990</td>  \n",
       "</tr>\n",
       "<tr>\n",
       "  <th>Method:</th>                    <td>Generalized</td>     <th>  Min. cluster size: </th>     <td>1</td>   \n",
       "</tr>\n",
       "<tr>\n",
       "  <th></th>                      <td>Estimating Equations</td> <th>  Max. cluster size: </th>    <td>50</td>   \n",
       "</tr>\n",
       "<tr>\n",
       "  <th>Family:</th>                      <td>Poisson</td>       <th>  Mean cluster size: </th>   <td>48.9</td>  \n",
       "</tr>\n",
       "<tr>\n",
       "  <th>Dependence structure:</th>     <td>Independence</td>     <th>  Num. iterations:   </th>    <td>60</td>   \n",
       "</tr>\n",
       "<tr>\n",
       "  <th>Date:</th>                   <td>Thu, 31 Aug 2017</td>   <th>  Scale:             </th>   <td>1.000</td> \n",
       "</tr>\n",
       "<tr>\n",
       "  <th>Covariance type: </th>            <td>robust</td>        <th>  Time:              </th> <td>12:31:17</td>\n",
       "</tr>\n",
       "</table>\n",
       "<table class=\"simpletable\">\n",
       "<tr>\n",
       "      <td></td>         <th>coef</th>     <th>std err</th>      <th>z</th>      <th>P>|z|</th>  <th>[0.025</th>    <th>0.975]</th>  \n",
       "</tr>\n",
       "<tr>\n",
       "  <th>Intercept</th> <td>  -55.9055</td> <td> 6.07e+05</td> <td> -9.2e-05</td> <td> 1.000</td> <td>-1.19e+06</td> <td> 1.19e+06</td>\n",
       "</tr>\n",
       "<tr>\n",
       "  <th>med1</th>      <td>    0.1265</td> <td>  162.560</td> <td>    0.001</td> <td> 0.999</td> <td> -318.484</td> <td>  318.737</td>\n",
       "</tr>\n",
       "<tr>\n",
       "  <th>med2</th>      <td>    0.1563</td> <td> 1575.984</td> <td> 9.91e-05</td> <td> 1.000</td> <td>-3088.716</td> <td> 3089.029</td>\n",
       "</tr>\n",
       "<tr>\n",
       "  <th>med3</th>      <td>    0.6232</td> <td> 9383.092</td> <td> 6.64e-05</td> <td> 1.000</td> <td>-1.84e+04</td> <td> 1.84e+04</td>\n",
       "</tr>\n",
       "</table>\n",
       "<table class=\"simpletable\">\n",
       "<tr>\n",
       "  <th>Skew:</th>          <td>   -219.9568</td> <th>  Kurtosis:          </th> <td>  48379.0000</td>\n",
       "</tr>\n",
       "<tr>\n",
       "  <th>Centered skew:</th> <td>   -188.7544</td> <th>  Centered kurtosis: </th> <td>  40023.7636</td>\n",
       "</tr>\n",
       "</table>"
      ],
      "text/plain": [
       "<class 'statsmodels.iolib.summary.Summary'>\n",
       "\"\"\"\n",
       "                               GEE Regression Results                              \n",
       "===================================================================================\n",
       "Dep. Variable:                           y   No. Observations:                48384\n",
       "Model:                                 GEE   No. clusters:                      990\n",
       "Method:                        Generalized   Min. cluster size:                   1\n",
       "                      Estimating Equations   Max. cluster size:                  50\n",
       "Family:                            Poisson   Mean cluster size:                48.9\n",
       "Dependence structure:         Independence   Num. iterations:                    60\n",
       "Date:                     Thu, 31 Aug 2017   Scale:                           1.000\n",
       "Covariance type:                    robust   Time:                         12:31:17\n",
       "==============================================================================\n",
       "                 coef    std err          z      P>|z|      [0.025      0.975]\n",
       "------------------------------------------------------------------------------\n",
       "Intercept    -55.9055   6.07e+05   -9.2e-05      1.000   -1.19e+06    1.19e+06\n",
       "med1           0.1265    162.560      0.001      0.999    -318.484     318.737\n",
       "med2           0.1563   1575.984   9.91e-05      1.000   -3088.716    3089.029\n",
       "med3           0.6232   9383.092   6.64e-05      1.000   -1.84e+04    1.84e+04\n",
       "==============================================================================\n",
       "Skew:                       -219.9568   Kurtosis:                   48379.0000\n",
       "Centered skew:              -188.7544   Centered kurtosis:          40023.7636\n",
       "==============================================================================\n",
       "\"\"\""
      ]
     },
     "execution_count": 120,
     "metadata": {},
     "output_type": "execute_result"
    }
   ],
   "source": [
    "ind = sm.cov_struct.Independence()\n",
    "model = sm.GEE.from_formula(\"y ~ med1 + med2 + med3\", \"page\",\n",
    "                            data=X, family=sm.families.Poisson())\n",
    "results = model.fit()\n",
    "results.summary()"
   ]
  },
  {
   "cell_type": "code",
   "execution_count": 121,
   "metadata": {},
   "outputs": [
    {
     "name": "stdout",
     "output_type": "stream",
     "text": [
      "[  3.82352073e-18   8.13901960e-14   4.73162499e-23 ...,   2.17663196e-21\n",
      "   1.40863070e-19   2.89704823e-22]\n",
      "[ 15.  17.   4. ...,   9.  14.   6.]\n",
      "199.809496795\n"
     ]
    }
   ],
   "source": [
    "print(results.predict())\n",
    "print(X[\"median\"].values)\n",
    "print(smape(y, results.predict()))"
   ]
  },
  {
   "cell_type": "code",
   "execution_count": 130,
   "metadata": {},
   "outputs": [
    {
     "data": {
      "text/html": [
       "<table class=\"simpletable\">\n",
       "<caption>Generalized Linear Model Regression Results</caption>\n",
       "<tr>\n",
       "  <th>Dep. Variable:</th>          <td>y</td>        <th>  No. Observations:  </th>   <td> 48384</td>   \n",
       "</tr>\n",
       "<tr>\n",
       "  <th>Model:</th>                 <td>GLM</td>       <th>  Df Residuals:      </th>   <td> 48379</td>   \n",
       "</tr>\n",
       "<tr>\n",
       "  <th>Model Family:</th>        <td>Poisson</td>     <th>  Df Model:          </th>   <td>     4</td>   \n",
       "</tr>\n",
       "<tr>\n",
       "  <th>Link Function:</th>         <td>log</td>       <th>  Scale:             </th>     <td>1.0</td>    \n",
       "</tr>\n",
       "<tr>\n",
       "  <th>Method:</th>               <td>IRLS</td>       <th>  Log-Likelihood:    </th> <td>-2.8214e+05</td>\n",
       "</tr>\n",
       "<tr>\n",
       "  <th>Date:</th>           <td>Thu, 31 Aug 2017</td> <th>  Deviance:          </th> <td>3.5581e+05</td> \n",
       "</tr>\n",
       "<tr>\n",
       "  <th>Time:</th>               <td>12:34:54</td>     <th>  Pearson chi2:      </th>  <td>4.48e+05</td>  \n",
       "</tr>\n",
       "<tr>\n",
       "  <th>No. Iterations:</th>         <td>7</td>        <th>                     </th>      <td> </td>     \n",
       "</tr>\n",
       "</table>\n",
       "<table class=\"simpletable\">\n",
       "<tr>\n",
       "      <td></td>         <th>coef</th>     <th>std err</th>      <th>z</th>      <th>P>|z|</th>  <th>[0.025</th>    <th>0.975]</th>  \n",
       "</tr>\n",
       "<tr>\n",
       "  <th>Intercept</th> <td>    2.3422</td> <td>    0.002</td> <td> 1437.137</td> <td> 0.000</td> <td>    2.339</td> <td>    2.345</td>\n",
       "</tr>\n",
       "<tr>\n",
       "  <th>median</th>    <td>    0.0041</td> <td>    0.000</td> <td>   39.580</td> <td> 0.000</td> <td>    0.004</td> <td>    0.004</td>\n",
       "</tr>\n",
       "<tr>\n",
       "  <th>med1</th>      <td>    0.0031</td> <td>  6.5e-05</td> <td>   47.880</td> <td> 0.000</td> <td>    0.003</td> <td>    0.003</td>\n",
       "</tr>\n",
       "<tr>\n",
       "  <th>med2</th>      <td>   -0.0033</td> <td>    0.000</td> <td>  -26.761</td> <td> 0.000</td> <td>   -0.004</td> <td>   -0.003</td>\n",
       "</tr>\n",
       "<tr>\n",
       "  <th>med3</th>      <td>    0.0255</td> <td>    0.000</td> <td>  147.628</td> <td> 0.000</td> <td>    0.025</td> <td>    0.026</td>\n",
       "</tr>\n",
       "</table>"
      ],
      "text/plain": [
       "<class 'statsmodels.iolib.summary.Summary'>\n",
       "\"\"\"\n",
       "                 Generalized Linear Model Regression Results                  \n",
       "==============================================================================\n",
       "Dep. Variable:                      y   No. Observations:                48384\n",
       "Model:                            GLM   Df Residuals:                    48379\n",
       "Model Family:                 Poisson   Df Model:                            4\n",
       "Link Function:                    log   Scale:                             1.0\n",
       "Method:                          IRLS   Log-Likelihood:            -2.8214e+05\n",
       "Date:                Thu, 31 Aug 2017   Deviance:                   3.5581e+05\n",
       "Time:                        12:34:54   Pearson chi2:                 4.48e+05\n",
       "No. Iterations:                     7                                         \n",
       "==============================================================================\n",
       "                 coef    std err          z      P>|z|      [0.025      0.975]\n",
       "------------------------------------------------------------------------------\n",
       "Intercept      2.3422      0.002   1437.137      0.000       2.339       2.345\n",
       "median         0.0041      0.000     39.580      0.000       0.004       0.004\n",
       "med1           0.0031    6.5e-05     47.880      0.000       0.003       0.003\n",
       "med2          -0.0033      0.000    -26.761      0.000      -0.004      -0.003\n",
       "med3           0.0255      0.000    147.628      0.000       0.025       0.026\n",
       "==============================================================================\n",
       "\"\"\""
      ]
     },
     "execution_count": 130,
     "metadata": {},
     "output_type": "execute_result"
    }
   ],
   "source": [
    "model = sm.GLM.from_formula(\"y ~ median + med1 + med2 + med3\", X,\n",
    "                           family=sm.families.Poisson())\n",
    "results = model.fit()\n",
    "results.summary()"
   ]
  },
  {
   "cell_type": "code",
   "execution_count": 140,
   "metadata": {},
   "outputs": [
    {
     "name": "stdout",
     "output_type": "stream",
     "text": [
      "[ 17.94433942  22.21541917  12.08536876 ...,  13.67638081  15.57612378\n",
      "  12.82031555]\n",
      "[ 15.  17.   4. ...,   9.  14.   6.]\n",
      "50.8094678606\n"
     ]
    }
   ],
   "source": [
    "print(results.predict())\n",
    "print(X[\"median\"].values)\n",
    "print(smape(y, results.predict()))"
   ]
  },
  {
   "cell_type": "code",
   "execution_count": 125,
   "metadata": {},
   "outputs": [
    {
     "data": {
      "text/html": [
       "<table class=\"simpletable\">\n",
       "<caption>Generalized Linear Model Regression Results</caption>\n",
       "<tr>\n",
       "  <th>Dep. Variable:</th>          <td>y</td>        <th>  No. Observations:  </th>    <td> 48384</td>    \n",
       "</tr>\n",
       "<tr>\n",
       "  <th>Model:</th>                 <td>GLM</td>       <th>  Df Residuals:      </th>    <td> 48379</td>    \n",
       "</tr>\n",
       "<tr>\n",
       "  <th>Model Family:</th>       <td>Gaussian</td>     <th>  Df Model:          </th>    <td>     4</td>    \n",
       "</tr>\n",
       "<tr>\n",
       "  <th>Link Function:</th>      <td>identity</td>     <th>  Scale:             </th> <td>139.089725397</td>\n",
       "</tr>\n",
       "<tr>\n",
       "  <th>Method:</th>               <td>IRLS</td>       <th>  Log-Likelihood:    </th>  <td>-1.8804e+05</td> \n",
       "</tr>\n",
       "<tr>\n",
       "  <th>Date:</th>           <td>Thu, 31 Aug 2017</td> <th>  Deviance:          </th>  <td>6.7290e+06</td>  \n",
       "</tr>\n",
       "<tr>\n",
       "  <th>Time:</th>               <td>12:32:24</td>     <th>  Pearson chi2:      </th>   <td>6.73e+06</td>   \n",
       "</tr>\n",
       "<tr>\n",
       "  <th>No. Iterations:</th>         <td>2</td>        <th>                     </th>       <td> </td>      \n",
       "</tr>\n",
       "</table>\n",
       "<table class=\"simpletable\">\n",
       "<tr>\n",
       "      <td></td>         <th>coef</th>     <th>std err</th>      <th>z</th>      <th>P>|z|</th>  <th>[0.025</th>    <th>0.975]</th>  \n",
       "</tr>\n",
       "<tr>\n",
       "  <th>Intercept</th> <td>    4.2329</td> <td>    0.091</td> <td>   46.710</td> <td> 0.000</td> <td>    4.055</td> <td>    4.411</td>\n",
       "</tr>\n",
       "<tr>\n",
       "  <th>median</th>    <td>    0.3033</td> <td>    0.011</td> <td>   28.537</td> <td> 0.000</td> <td>    0.282</td> <td>    0.324</td>\n",
       "</tr>\n",
       "<tr>\n",
       "  <th>med1</th>      <td>    0.1105</td> <td>    0.007</td> <td>   15.944</td> <td> 0.000</td> <td>    0.097</td> <td>    0.124</td>\n",
       "</tr>\n",
       "<tr>\n",
       "  <th>med2</th>      <td>    0.1780</td> <td>    0.013</td> <td>   13.226</td> <td> 0.000</td> <td>    0.152</td> <td>    0.204</td>\n",
       "</tr>\n",
       "<tr>\n",
       "  <th>med3</th>      <td>    0.3419</td> <td>    0.016</td> <td>   21.146</td> <td> 0.000</td> <td>    0.310</td> <td>    0.374</td>\n",
       "</tr>\n",
       "</table>"
      ],
      "text/plain": [
       "<class 'statsmodels.iolib.summary.Summary'>\n",
       "\"\"\"\n",
       "                 Generalized Linear Model Regression Results                  \n",
       "==============================================================================\n",
       "Dep. Variable:                      y   No. Observations:                48384\n",
       "Model:                            GLM   Df Residuals:                    48379\n",
       "Model Family:                Gaussian   Df Model:                            4\n",
       "Link Function:               identity   Scale:                   139.089725397\n",
       "Method:                          IRLS   Log-Likelihood:            -1.8804e+05\n",
       "Date:                Thu, 31 Aug 2017   Deviance:                   6.7290e+06\n",
       "Time:                        12:32:24   Pearson chi2:                 6.73e+06\n",
       "No. Iterations:                     2                                         \n",
       "==============================================================================\n",
       "                 coef    std err          z      P>|z|      [0.025      0.975]\n",
       "------------------------------------------------------------------------------\n",
       "Intercept      4.2329      0.091     46.710      0.000       4.055       4.411\n",
       "median         0.3033      0.011     28.537      0.000       0.282       0.324\n",
       "med1           0.1105      0.007     15.944      0.000       0.097       0.124\n",
       "med2           0.1780      0.013     13.226      0.000       0.152       0.204\n",
       "med3           0.3419      0.016     21.146      0.000       0.310       0.374\n",
       "==============================================================================\n",
       "\"\"\""
      ]
     },
     "execution_count": 125,
     "metadata": {},
     "output_type": "execute_result"
    }
   ],
   "source": [
    "model = sm.GLM.from_formula(\"y ~ median + med1 + med2 + med3\", X,\n",
    "                           family=sm.families.Gaussian())\n",
    "results = model.fit()\n",
    "results.summary()"
   ]
  },
  {
   "cell_type": "code",
   "execution_count": 126,
   "metadata": {},
   "outputs": [
    {
     "name": "stdout",
     "output_type": "stream",
     "text": [
      "[ 19.31786512  28.07679388   8.53080756 ...,  12.7684853   17.24454753\n",
      "  10.39824302] 46.8439557798\n"
     ]
    }
   ],
   "source": [
    "print(results.predict(), smape(y, results.predict()))"
   ]
  },
  {
   "cell_type": "code",
   "execution_count": null,
   "metadata": {
    "collapsed": true
   },
   "outputs": [],
   "source": []
  }
 ],
 "metadata": {
  "kernelspec": {
   "display_name": "Python 3",
   "language": "python",
   "name": "python3"
  },
  "language_info": {
   "codemirror_mode": {
    "name": "ipython",
    "version": 3
   },
   "file_extension": ".py",
   "mimetype": "text/x-python",
   "name": "python",
   "nbconvert_exporter": "python",
   "pygments_lexer": "ipython3",
   "version": "3.5.2"
  }
 },
 "nbformat": 4,
 "nbformat_minor": 2
}
