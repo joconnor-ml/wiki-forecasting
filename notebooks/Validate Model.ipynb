{
 "cells": [
  {
   "cell_type": "code",
   "execution_count": 1,
   "metadata": {
    "collapsed": true
   },
   "outputs": [],
   "source": [
    "%load_ext autoreload\n",
    "\n",
    "# trick for importing from different directory\n",
    "import os\n",
    "import sys\n",
    "module_path = os.path.abspath(os.path.join('..'))\n",
    "if module_path not in sys.path:\n",
    "    sys.path.append(module_path)"
   ]
  },
  {
   "cell_type": "code",
   "execution_count": 2,
   "metadata": {
    "scrolled": true
   },
   "outputs": [
    {
     "name": "stderr",
     "output_type": "stream",
     "text": [
      "/home/joe/kaggle/wiki_forecasting/.env/lib/python3.5/site-packages/sklearn/cross_validation.py:41: DeprecationWarning: This module was deprecated in version 0.18 in favor of the model_selection module into which all the refactored classes and functions are moved. Also note that the interface of the new CV iterators are different from that of this module. This module will be removed in 0.20.\n",
      "  \"This module will be removed in 0.20.\", DeprecationWarning)\n"
     ]
    }
   ],
   "source": [
    "import numpy as np\n",
    "from sklearn.model_selection import GroupKFold, cross_val_predict, cross_val_score\n",
    "from sklearn.linear_model import LinearRegression, RidgeCV\n",
    "from sklearn.pipeline import make_pipeline\n",
    "from sklearn.preprocessing import Imputer, StandardScaler\n",
    "import xgboost as xgb"
   ]
  },
  {
   "cell_type": "code",
   "execution_count": 3,
   "metadata": {
    "collapsed": true
   },
   "outputs": [],
   "source": [
    "def smape(y_true, y_pred):\n",
    "    denominator = (np.abs(y_true) + np.abs(y_pred)) / 200.0\n",
    "    diff = np.abs(y_true - y_pred) / denominator\n",
    "    diff[denominator == 0] = 0.0\n",
    "    return np.nanmean(diff)"
   ]
  },
  {
   "cell_type": "code",
   "execution_count": 4,
   "metadata": {},
   "outputs": [
    {
     "name": "stdout",
     "output_type": "stream",
     "text": [
      "1 41.3461 40.7796\n",
      "11 43.6674 42.7912\n",
      "21 44.7235 44.4873\n",
      "31 45.0621 45.4326\n",
      "41 45.3544 45.6891\n",
      "51 45.8573 45.4468\n"
     ]
    }
   ],
   "source": [
    "cv=GroupKFold(2)\n",
    "\n",
    "%autoreload 2\n",
    "from wiki_forecasting.data_utils import prepare_data\n",
    "\n",
    "cv_scores = []\n",
    "test_scores = []\n",
    "imps = []\n",
    "for prediction_gap in range(1, 61, 10):\n",
    "    X, y, sums, X_test, y_test, sums_test, df = prepare_data(prediction_gap)\n",
    "    X[\"date_code\"] = X[\"date_code\"] // 20\n",
    "    model = xgb.XGBRegressor(n_estimators=32)\n",
    "    preds = cross_val_predict(model,\n",
    "                              X.drop([\"date\", \"date_code\"], axis=1), np.log(y+1),\n",
    "                              groups=X[\"date_code\"], cv=cv)\n",
    "    cv_score = smape(y, np.exp(preds)-1)\n",
    "    cv_scores.append(cv_score)\n",
    "    \n",
    "    model = model.fit(\n",
    "        X.drop([\"date\", \"date_code\"], axis=1),\n",
    "        np.log(y+1)\n",
    "    )\n",
    "    preds =  model.predict(X_test.drop([\"date\", \"date_code\"], axis=1))\n",
    "    b = model.booster()\n",
    "    imps.append(b.get_fscore())\n",
    "    \n",
    "    test_score = smape(y_test, np.exp(preds) - 1)\n",
    "    test_scores.append(test_score)\n",
    "    print(prediction_gap, cv_score, test_score)"
   ]
  },
  {
   "cell_type": "code",
   "execution_count": 5,
   "metadata": {},
   "outputs": [
    {
     "data": {
      "text/plain": [
       "<matplotlib.legend.Legend at 0x7f004f4eff98>"
      ]
     },
     "execution_count": 5,
     "metadata": {},
     "output_type": "execute_result"
    },
    {
     "data": {
      "image/png": "[encoded data removed]",
      "text/plain": [
       "<matplotlib.figure.Figure at 0x7f001122b908>"
      ]
     },
     "metadata": {},
     "output_type": "display_data"
    }
   ],
   "source": [
    "import matplotlib.pyplot as plt\n",
    "%matplotlib inline\n",
    "\n",
    "plt.plot(cv_scores, label=\"cv\")\n",
    "plt.plot(test_scores, label=\"test\")\n",
    "plt.legend()"
   ]
  },
  {
   "cell_type": "code",
   "execution_count": 7,
   "metadata": {},
   "outputs": [
    {
     "data": {
      "text/html": [
       "<div>\n",
       "<style>\n",
       "    .dataframe thead tr:only-child th {\n",
       "        text-align: right;\n",
       "    }\n",
       "\n",
       "    .dataframe thead th {\n",
       "        text-align: left;\n",
       "    }\n",
       "\n",
       "    .dataframe tbody tr th {\n",
       "        vertical-align: top;\n",
       "    }\n",
       "</style>\n",
       "<table border=\"1\" class=\"dataframe\">\n",
       "  <thead>\n",
       "    <tr style=\"text-align: right;\">\n",
       "      <th></th>\n",
       "      <th>day</th>\n",
       "      <th>ewm</th>\n",
       "      <th>med1</th>\n",
       "      <th>med2</th>\n",
       "      <th>med3</th>\n",
       "      <th>med_day</th>\n",
       "      <th>median</th>\n",
       "      <th>page</th>\n",
       "      <th>us_holiday</th>\n",
       "    </tr>\n",
       "  </thead>\n",
       "  <tbody>\n",
       "    <tr>\n",
       "      <th>0</th>\n",
       "      <td>2.0</td>\n",
       "      <td>54</td>\n",
       "      <td>76</td>\n",
       "      <td>31</td>\n",
       "      <td>16</td>\n",
       "      <td>18</td>\n",
       "      <td>8</td>\n",
       "      <td>11</td>\n",
       "      <td>8</td>\n",
       "    </tr>\n",
       "    <tr>\n",
       "      <th>1</th>\n",
       "      <td>NaN</td>\n",
       "      <td>48</td>\n",
       "      <td>56</td>\n",
       "      <td>39</td>\n",
       "      <td>21</td>\n",
       "      <td>4</td>\n",
       "      <td>35</td>\n",
       "      <td>17</td>\n",
       "      <td>4</td>\n",
       "    </tr>\n",
       "    <tr>\n",
       "      <th>2</th>\n",
       "      <td>NaN</td>\n",
       "      <td>41</td>\n",
       "      <td>39</td>\n",
       "      <td>46</td>\n",
       "      <td>28</td>\n",
       "      <td>18</td>\n",
       "      <td>24</td>\n",
       "      <td>20</td>\n",
       "      <td>8</td>\n",
       "    </tr>\n",
       "    <tr>\n",
       "      <th>3</th>\n",
       "      <td>NaN</td>\n",
       "      <td>38</td>\n",
       "      <td>33</td>\n",
       "      <td>46</td>\n",
       "      <td>29</td>\n",
       "      <td>10</td>\n",
       "      <td>38</td>\n",
       "      <td>27</td>\n",
       "      <td>3</td>\n",
       "    </tr>\n",
       "    <tr>\n",
       "      <th>4</th>\n",
       "      <td>1.0</td>\n",
       "      <td>45</td>\n",
       "      <td>38</td>\n",
       "      <td>40</td>\n",
       "      <td>28</td>\n",
       "      <td>13</td>\n",
       "      <td>39</td>\n",
       "      <td>16</td>\n",
       "      <td>3</td>\n",
       "    </tr>\n",
       "    <tr>\n",
       "      <th>5</th>\n",
       "      <td>NaN</td>\n",
       "      <td>36</td>\n",
       "      <td>32</td>\n",
       "      <td>55</td>\n",
       "      <td>18</td>\n",
       "      <td>15</td>\n",
       "      <td>47</td>\n",
       "      <td>18</td>\n",
       "      <td>3</td>\n",
       "    </tr>\n",
       "  </tbody>\n",
       "</table>\n",
       "</div>"
      ],
      "text/plain": [
       "   day  ewm  med1  med2  med3  med_day  median  page  us_holiday\n",
       "0  2.0   54    76    31    16       18       8    11           8\n",
       "1  NaN   48    56    39    21        4      35    17           4\n",
       "2  NaN   41    39    46    28       18      24    20           8\n",
       "3  NaN   38    33    46    29       10      38    27           3\n",
       "4  1.0   45    38    40    28       13      39    16           3\n",
       "5  NaN   36    32    55    18       15      47    18           3"
      ]
     },
     "execution_count": 7,
     "metadata": {},
     "output_type": "execute_result"
    }
   ],
   "source": [
    "import pandas as pd\n",
    "pd.DataFrame(imps)"
   ]
  },
  {
   "cell_type": "code",
   "execution_count": null,
   "metadata": {},
   "outputs": [],
   "source": []
  }
 ],
 "metadata": {
  "kernelspec": {
   "display_name": "Python 3",
   "language": "python",
   "name": "python3"
  },
  "language_info": {
   "codemirror_mode": {
    "name": "ipython",
    "version": 3
   },
   "file_extension": ".py",
   "mimetype": "text/x-python",
   "name": "python",
   "nbconvert_exporter": "python",
   "pygments_lexer": "ipython3",
   "version": "3.5.2"
  }
 },
 "nbformat": 4,
 "nbformat_minor": 2
}
