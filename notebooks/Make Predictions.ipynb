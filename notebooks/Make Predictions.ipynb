{
 "cells": [
  {
   "cell_type": "code",
   "execution_count": null,
   "metadata": {
    "collapsed": true
   },
   "outputs": [],
   "source": [
    "%load_ext autoreload\n",
    "\n",
    "# trick for importing from different directory\n",
    "import os\n",
    "import sys\n",
    "module_path = os.path.abspath(os.path.join('..'))\n",
    "if module_path not in sys.path:\n",
    "    sys.path.append(module_path)"
   ]
  },
  {
   "cell_type": "code",
   "execution_count": null,
   "metadata": {},
   "outputs": [],
   "source": [
    "%autoreload 2\n",
    "from wiki_forecasting.data_utils import prepare_future_data\n",
    "X = prepare_future_data(1)"
   ]
  },
  {
   "cell_type": "code",
   "execution_count": null,
   "metadata": {},
   "outputs": [],
   "source": [
    "X.head()"
   ]
  },
  {
   "cell_type": "code",
   "execution_count": null,
   "metadata": {},
   "outputs": [],
   "source": [
    "import datetime\n",
    "X[\"date\"] = datetime.datetime(2017, 1, 1)\n",
    "X"
   ]
  },
  {
   "cell_type": "code",
   "execution_count": 1,
   "metadata": {
    "collapsed": true
   },
   "outputs": [],
   "source": [
    "import pandas as pd"
   ]
  },
  {
   "cell_type": "code",
   "execution_count": 19,
   "metadata": {},
   "outputs": [],
   "source": [
    "dfs = {\n",
    "    i: pd.read_csv(\"../predictions/pred.{}.csv\".format(i), header=None)\n",
    "    for i in range(2,11)\n",
    "}"
   ]
  },
  {
   "cell_type": "code",
   "execution_count": 20,
   "metadata": {},
   "outputs": [],
   "source": [
    "panel = pd.Panel(dfs)"
   ]
  },
  {
   "cell_type": "code",
   "execution_count": 22,
   "metadata": {},
   "outputs": [
    {
     "data": {
      "text/html": [
       "<div>\n",
       "<style>\n",
       "    .dataframe thead tr:only-child th {\n",
       "        text-align: right;\n",
       "    }\n",
       "\n",
       "    .dataframe thead th {\n",
       "        text-align: left;\n",
       "    }\n",
       "\n",
       "    .dataframe tbody tr th {\n",
       "        vertical-align: top;\n",
       "    }\n",
       "</style>\n",
       "<table border=\"1\" class=\"dataframe\">\n",
       "  <thead>\n",
       "    <tr style=\"text-align: right;\">\n",
       "      <th></th>\n",
       "      <th>2</th>\n",
       "      <th>3</th>\n",
       "      <th>4</th>\n",
       "      <th>5</th>\n",
       "      <th>6</th>\n",
       "      <th>7</th>\n",
       "      <th>8</th>\n",
       "      <th>9</th>\n",
       "      <th>10</th>\n",
       "    </tr>\n",
       "  </thead>\n",
       "  <tbody>\n",
       "    <tr>\n",
       "      <th>0</th>\n",
       "      <td>Monstar_zh.wikipedia.org_all-access_spider</td>\n",
       "      <td>Monstar_zh.wikipedia.org_all-access_spider</td>\n",
       "      <td>Monstar_zh.wikipedia.org_all-access_spider</td>\n",
       "      <td>Monstar_zh.wikipedia.org_all-access_spider</td>\n",
       "      <td>Monstar_zh.wikipedia.org_all-access_spider</td>\n",
       "      <td>Monstar_zh.wikipedia.org_all-access_spider</td>\n",
       "      <td>Monstar_zh.wikipedia.org_all-access_spider</td>\n",
       "      <td>Monstar_zh.wikipedia.org_all-access_spider</td>\n",
       "      <td>Monstar_zh.wikipedia.org_all-access_spider</td>\n",
       "    </tr>\n",
       "    <tr>\n",
       "      <th>1</th>\n",
       "      <td>2017-01-02</td>\n",
       "      <td>2017-01-03</td>\n",
       "      <td>2017-01-04</td>\n",
       "      <td>2017-01-05</td>\n",
       "      <td>2017-01-06</td>\n",
       "      <td>2017-01-07</td>\n",
       "      <td>2017-01-08</td>\n",
       "      <td>2017-01-09</td>\n",
       "      <td>2017-01-10</td>\n",
       "    </tr>\n",
       "    <tr>\n",
       "      <th>2</th>\n",
       "      <td>6.21006</td>\n",
       "      <td>6.76641</td>\n",
       "      <td>6.84094</td>\n",
       "      <td>6.99176</td>\n",
       "      <td>7.2501</td>\n",
       "      <td>6.84573</td>\n",
       "      <td>6.67482</td>\n",
       "      <td>6.62968</td>\n",
       "      <td>6.84611</td>\n",
       "    </tr>\n",
       "  </tbody>\n",
       "</table>\n",
       "</div>"
      ],
      "text/plain": [
       "                                           2   \\\n",
       "0  Monstar_zh.wikipedia.org_all-access_spider   \n",
       "1                                  2017-01-02   \n",
       "2                                     6.21006   \n",
       "\n",
       "                                           3   \\\n",
       "0  Monstar_zh.wikipedia.org_all-access_spider   \n",
       "1                                  2017-01-03   \n",
       "2                                     6.76641   \n",
       "\n",
       "                                           4   \\\n",
       "0  Monstar_zh.wikipedia.org_all-access_spider   \n",
       "1                                  2017-01-04   \n",
       "2                                     6.84094   \n",
       "\n",
       "                                           5   \\\n",
       "0  Monstar_zh.wikipedia.org_all-access_spider   \n",
       "1                                  2017-01-05   \n",
       "2                                     6.99176   \n",
       "\n",
       "                                           6   \\\n",
       "0  Monstar_zh.wikipedia.org_all-access_spider   \n",
       "1                                  2017-01-06   \n",
       "2                                      7.2501   \n",
       "\n",
       "                                           7   \\\n",
       "0  Monstar_zh.wikipedia.org_all-access_spider   \n",
       "1                                  2017-01-07   \n",
       "2                                     6.84573   \n",
       "\n",
       "                                           8   \\\n",
       "0  Monstar_zh.wikipedia.org_all-access_spider   \n",
       "1                                  2017-01-08   \n",
       "2                                     6.67482   \n",
       "\n",
       "                                           9   \\\n",
       "0  Monstar_zh.wikipedia.org_all-access_spider   \n",
       "1                                  2017-01-09   \n",
       "2                                     6.62968   \n",
       "\n",
       "                                           10  \n",
       "0  Monstar_zh.wikipedia.org_all-access_spider  \n",
       "1                                  2017-01-10  \n",
       "2                                     6.84611  "
      ]
     },
     "execution_count": 22,
     "metadata": {},
     "output_type": "execute_result"
    }
   ],
   "source": [
    "panel.iloc[:, 100, :]"
   ]
  },
  {
   "cell_type": "code",
   "execution_count": null,
   "metadata": {
    "collapsed": true
   },
   "outputs": [],
   "source": []
  }
 ],
 "metadata": {
  "kernelspec": {
   "display_name": "Python 3",
   "language": "python",
   "name": "python3"
  },
  "language_info": {
   "codemirror_mode": {
    "name": "ipython",
    "version": 3
   },
   "file_extension": ".py",
   "mimetype": "text/x-python",
   "name": "python",
   "nbconvert_exporter": "python",
   "pygments_lexer": "ipython3",
   "version": "3.5.2"
  }
 },
 "nbformat": 4,
 "nbformat_minor": 2
}
